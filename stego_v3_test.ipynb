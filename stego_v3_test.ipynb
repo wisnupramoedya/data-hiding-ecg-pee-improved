{
 "cells": [
  {
   "cell_type": "code",
   "execution_count": 10,
   "metadata": {},
   "outputs": [],
   "source": [
    "from collections import OrderedDict\n",
    "import pandas as pd\n",
    "import pickle\n",
    "\n",
    "from ml_pee_stego_v3 import MLPEEStego"
   ]
  },
  {
   "cell_type": "markdown",
   "metadata": {},
   "source": [
    "# Set up the secret data"
   ]
  },
  {
   "cell_type": "code",
   "execution_count": 11,
   "metadata": {},
   "outputs": [
    {
     "name": "stdout",
     "output_type": "stream",
     "text": [
      "Secret untuk secret_0.99_bps\n",
      "Secret untuk secret_0.66_bps\n",
      "Secret untuk secret_0.51_bps\n",
      "Secret untuk secret_0.48_bps\n",
      "Secret untuk secret_0.39_bps\n",
      "Secret untuk secret_0.32_bps\n",
      "Secret untuk secret_0.21_bps\n",
      "Secret untuk secret_0.15_bps\n",
      "Secret untuk secret_0.08_bps\n"
     ]
    }
   ],
   "source": [
    "from utils.data_preparation import get_filenames_from_folder, get_secret_file\n",
    "\n",
    "# Tentukan folder path tempat secret\n",
    "SECRET_FOLDER_PATH = 'keys/bin'\n",
    "\n",
    "# Dapatkan semua nama file .txt dari folder\n",
    "secret_filenames = get_filenames_from_folder('txt', SECRET_FOLDER_PATH)\n",
    "secret_filenames.sort(reverse=True)\n",
    "\n",
    "# Masukkan ke dalam dictionary berisi nama filename beserta isi secret filenya\n",
    "secret_dicts = OrderedDict((secret_filename, get_secret_file(\n",
    "    SECRET_FOLDER_PATH + '/' + secret_filename + '.txt')) for secret_filename in secret_filenames)\n",
    "\n",
    "for secret_name, secret_data in secret_dicts.items():\n",
    "    print(f\"Secret untuk {secret_name}\")"
   ]
  },
  {
   "cell_type": "markdown",
   "metadata": {},
   "source": [
    "# Set up the model"
   ]
  },
  {
   "cell_type": "code",
   "execution_count": 12,
   "metadata": {},
   "outputs": [],
   "source": [
    "import warnings\n",
    "from sklearn.exceptions import InconsistentVersionWarning\n",
    "\n",
    "# Menonaktifkan peringatan InconsistentVersionWarning\n",
    "warnings.simplefilter(\"ignore\", category=InconsistentVersionWarning)\n",
    "\n",
    "models = OrderedDict()\n",
    "\n",
    "# models['SVR'] = 'models/svr_model.pkl'\n",
    "models['SVR 2.0'] = 'models/svr_model_2.0.pkl'\n",
    "models['LASSO'] = 'models/lasso_model.pkl'\n",
    "models['ElasticNet'] = 'models/elastic_net_model.pkl'\n",
    "models['Bayesian Ridge'] = 'models/bayesian_ridge_model.pkl'\n",
    "models['SGD Regressor'] = 'models/sgd_model.pkl'"
   ]
  },
  {
   "cell_type": "markdown",
   "metadata": {},
   "source": [
    "# Set up patient"
   ]
  },
  {
   "cell_type": "code",
   "execution_count": 13,
   "metadata": {},
   "outputs": [
    {
     "name": "stdout",
     "output_type": "stream",
     "text": [
      "46\n"
     ]
    }
   ],
   "source": [
    "from utils.data_preparation import slice_batch_data\n",
    "\n",
    "# Tentukan folder path tempat secret\n",
    "patient_folder_path = 'data/mit-bih-arrhythmia-database-1.0.0/'\n",
    "\n",
    "# Dapatkan semua nama file .dat dari folder\n",
    "patient_codes = get_filenames_from_folder('dat', patient_folder_path)\n",
    "patient_codes.sort()\n",
    "\n",
    "signals = []\n",
    "for patient_code in patient_codes:\n",
    "    batch_signals = slice_batch_data(patient_code=patient_code, max_batch=1)\n",
    "    signals.extend(batch_signals)\n",
    "\n",
    "print(len(signals))"
   ]
  },
  {
   "cell_type": "markdown",
   "metadata": {},
   "source": [
    "# Run model test"
   ]
  },
  {
   "cell_type": "code",
   "execution_count": 16,
   "metadata": {},
   "outputs": [
    {
     "name": "stdout",
     "output_type": "stream",
     "text": [
      "IndexError('list index out of range')\n"
     ]
    }
   ],
   "source": [
    "from utils.telegram_bot import send_message\n",
    "from datetime import datetime\n",
    "\n",
    "right_now = datetime.now()\n",
    "test_result = []\n",
    "\n",
    "try:\n",
    "    for model_name, model_path in models.items():\n",
    "        print(f\"Model {model_name}\")\n",
    "        with open(models.get(model_name), 'rb') as model_file:\n",
    "            model = pickle.load(model_file)\n",
    "\n",
    "        stego = MLPEEStego(model)\n",
    "\n",
    "        for payload_rate in [1, 2, 3]:\n",
    "            for threshold in [0, 1]:\n",
    "                for index_signal, original_signal in enumerate(signals):\n",
    "                    for secret_name, secret_data in secret_dicts.items():\n",
    "                        print(f\"Pada model {model_name} payload_rate {payload_rate} threshold {threshold} signals {index_signal} secret {secret_name}\")\n",
    "                        print(\">>Embedding...\")\n",
    "                        watermarked_signal, mirror_data, last_phase, last_i, last_embedded_bit_total, result = stego.embed(\n",
    "                            original_signal, secret_data, payload_rate=payload_rate, threshold=threshold)\n",
    "                        print(f\"Last Phase: {last_phase}, Last I: {last_i}, Last embedded bit: {last_embedded_bit_total}\")\n",
    "                        print(\">>Extracting...\")\n",
    "                        extracted_original_signal, extracted_secret_data = stego.extract(\n",
    "                            watermarked_signal, mirror_data, last_phase, last_i, last_embedded_bit_total, payload_rate=payload_rate, threshold=threshold)\n",
    "\n",
    "                        print(\">>\", original_signal[0:20], secret_data[0:20])\n",
    "                        print(\">>\", extracted_original_signal[0:20],\n",
    "                            extracted_secret_data[0:20])\n",
    "                        print(\">>\", \"Len -> Ori:\", len(original_signal), \", Ex-ori:\", len(extracted_original_signal),\n",
    "                            \", Sec:\", len(\n",
    "                                    secret_data), \", Ex-sec:\", len(extracted_secret_data))\n",
    "                        print(\"******\\n******\")\n",
    "\n",
    "                        test_result.append([model_name, payload_rate, threshold, index_signal, secret_name, len(secret_data), len(extracted_secret_data), result.ncc, result.prd, result.snr, result.timer])\n",
    "except Exception as err:\n",
    "    print(repr(err))\n",
    "    send_message(f\"Terjadi masalah {right_now}\")\n"
   ]
  },
  {
   "cell_type": "code",
   "execution_count": null,
   "metadata": {},
   "outputs": [],
   "source": [
    "out_csv = f\"result_{right_now.strftime('%Y%m%d_%H%M%S.csv')}\""
   ]
  },
  {
   "cell_type": "code",
   "execution_count": null,
   "metadata": {},
   "outputs": [],
   "source": [
    "df = pd.DataFrame(test_result, columns=['model_name', 'payload_rate', 'threshold', 'index_signal', 'secret_name', 'len_secret_data', 'len_extracted_secret_data', 'ncc', 'prd', 'snr', 'time'])\n",
    "df.to_csv(f'out/{out_csv}', index=False)"
   ]
  }
 ],
 "metadata": {
  "kernelspec": {
   "display_name": "base",
   "language": "python",
   "name": "python3"
  },
  "language_info": {
   "codemirror_mode": {
    "name": "ipython",
    "version": 3
   },
   "file_extension": ".py",
   "mimetype": "text/x-python",
   "name": "python",
   "nbconvert_exporter": "python",
   "pygments_lexer": "ipython3",
   "version": "3.9.18"
  }
 },
 "nbformat": 4,
 "nbformat_minor": 2
}
